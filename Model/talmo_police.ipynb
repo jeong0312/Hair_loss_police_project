{
 "cells": [
  {
   "cell_type": "code",
   "execution_count": 1,
   "metadata": {},
   "outputs": [],
   "source": [
    "import torch\n",
    "import torch.nn as nn\n",
    "import torchvision.transforms as transforms\n",
    "from PIL import Image\n",
    "\n",
    "device = torch.device('cuda' if torch.cuda.is_available() else 'cpu')"
   ]
  },
  {
   "cell_type": "code",
   "execution_count": 2,
   "metadata": {},
   "outputs": [],
   "source": [
    "from DenseNet import DenseNet, BottleNeck, Transition\n",
    "\n",
    "device = torch.device('cuda' if torch.cuda.is_available() else 'cpu')"
   ]
  },
  {
   "cell_type": "code",
   "execution_count": 3,
   "metadata": {},
   "outputs": [],
   "source": [
    "model = torch.load('./model1.pth', map_location=torch.device('cpu'))"
   ]
  },
  {
   "cell_type": "code",
   "execution_count": 4,
   "metadata": {},
   "outputs": [],
   "source": [
    "def predict_image_class(image_path, model):\n",
    "    transform = transforms.Compose([\n",
    "        transforms.Resize((256, 256)),  # 이미지 크기 조정\n",
    "        transforms.ToTensor(),  # 이미지를 텐서로 변환\n",
    "        transforms.Normalize(mean=[0.25, 0.25, 0.25], std=[0.1, 0.1, 0.1])#성수님 코드 내부대로 변경\n",
    "    ])\n",
    "    image = Image.open(image_path).convert(\"RGB\")\n",
    "    image = transform(image).unsqueeze(0).to(device)\n",
    "\n",
    "    model.eval()\n",
    "    with torch.no_grad():\n",
    "        outputs = model(image)\n",
    "        _, predicted = torch.max(outputs.data, 1)\n",
    "\n",
    "    return predicted.item()"
   ]
  },
  {
   "cell_type": "code",
   "execution_count": 5,
   "metadata": {},
   "outputs": [
    {
     "data": {
      "text/html": [
       "<div>\n",
       "<style scoped>\n",
       "    .dataframe tbody tr th:only-of-type {\n",
       "        vertical-align: middle;\n",
       "    }\n",
       "\n",
       "    .dataframe tbody tr th {\n",
       "        vertical-align: top;\n",
       "    }\n",
       "\n",
       "    .dataframe thead th {\n",
       "        text-align: right;\n",
       "    }\n",
       "</style>\n",
       "<table border=\"1\" class=\"dataframe\">\n",
       "  <thead>\n",
       "    <tr style=\"text-align: right;\">\n",
       "      <th></th>\n",
       "      <th>Unnamed: 0</th>\n",
       "      <th>image_id</th>\n",
       "      <th>image_file_name</th>\n",
       "      <th>미세각질</th>\n",
       "      <th>피지과다</th>\n",
       "      <th>모낭사이홍반</th>\n",
       "      <th>모낭홍반농포</th>\n",
       "      <th>비듬</th>\n",
       "      <th>탈모</th>\n",
       "      <th>where</th>\n",
       "      <th>image_path</th>\n",
       "    </tr>\n",
       "  </thead>\n",
       "  <tbody>\n",
       "    <tr>\n",
       "      <th>0</th>\n",
       "      <td>0</td>\n",
       "      <td>0013_A2LEBJJDE00060O_1606550825417_3</td>\n",
       "      <td>0013_A2LEBJJDE00060O_1606550825417_3_TH.jpg</td>\n",
       "      <td>0</td>\n",
       "      <td>0</td>\n",
       "      <td>0</td>\n",
       "      <td>0</td>\n",
       "      <td>0</td>\n",
       "      <td>0</td>\n",
       "      <td>[라벨]탈모_0.양호</td>\n",
       "      <td>./Training/[원천]탈모_0.양호.zipfile/0013_A2LEBJJDE0...</td>\n",
       "    </tr>\n",
       "    <tr>\n",
       "      <th>1</th>\n",
       "      <td>1</td>\n",
       "      <td>0177_A2LEBJJDE00152B_1604650530904_6</td>\n",
       "      <td>0177_A2LEBJJDE00152B_1604650530904_6_BH.jpg</td>\n",
       "      <td>0</td>\n",
       "      <td>0</td>\n",
       "      <td>0</td>\n",
       "      <td>0</td>\n",
       "      <td>0</td>\n",
       "      <td>0</td>\n",
       "      <td>[라벨]탈모_0.양호</td>\n",
       "      <td>./Training/[원천]탈모_0.양호.zipfile/0177_A2LEBJJDE0...</td>\n",
       "    </tr>\n",
       "    <tr>\n",
       "      <th>2</th>\n",
       "      <td>2</td>\n",
       "      <td>0335_A2LEBJJDE00013X_1602916465540_6</td>\n",
       "      <td>0335_A2LEBJJDE00013X_1602916465540_6_BH.jpg</td>\n",
       "      <td>0</td>\n",
       "      <td>0</td>\n",
       "      <td>0</td>\n",
       "      <td>0</td>\n",
       "      <td>0</td>\n",
       "      <td>0</td>\n",
       "      <td>[라벨]탈모_0.양호</td>\n",
       "      <td>./Training/[원천]탈모_0.양호.zipfile/0335_A2LEBJJDE0...</td>\n",
       "    </tr>\n",
       "    <tr>\n",
       "      <th>3</th>\n",
       "      <td>3</td>\n",
       "      <td>0335_A2LEBJJDE000542_1605676381132_4</td>\n",
       "      <td>0335_A2LEBJJDE000542_1605676381132_4_LH.jpg</td>\n",
       "      <td>0</td>\n",
       "      <td>0</td>\n",
       "      <td>0</td>\n",
       "      <td>0</td>\n",
       "      <td>0</td>\n",
       "      <td>0</td>\n",
       "      <td>[라벨]탈모_0.양호</td>\n",
       "      <td>./Training/[원천]탈모_0.양호.zipfile/0335_A2LEBJJDE0...</td>\n",
       "    </tr>\n",
       "    <tr>\n",
       "      <th>4</th>\n",
       "      <td>4</td>\n",
       "      <td>0425_A2LEBJJDE00079P_1605793927978_5</td>\n",
       "      <td>0425_A2LEBJJDE00079P_1605793927978_5_RH.jpg</td>\n",
       "      <td>0</td>\n",
       "      <td>0</td>\n",
       "      <td>0</td>\n",
       "      <td>0</td>\n",
       "      <td>0</td>\n",
       "      <td>0</td>\n",
       "      <td>[라벨]탈모_0.양호</td>\n",
       "      <td>./Training/[원천]탈모_0.양호.zipfile/0425_A2LEBJJDE0...</td>\n",
       "    </tr>\n",
       "  </tbody>\n",
       "</table>\n",
       "</div>"
      ],
      "text/plain": [
       "   Unnamed: 0                              image_id  \\\n",
       "0           0  0013_A2LEBJJDE00060O_1606550825417_3   \n",
       "1           1  0177_A2LEBJJDE00152B_1604650530904_6   \n",
       "2           2  0335_A2LEBJJDE00013X_1602916465540_6   \n",
       "3           3  0335_A2LEBJJDE000542_1605676381132_4   \n",
       "4           4  0425_A2LEBJJDE00079P_1605793927978_5   \n",
       "\n",
       "                               image_file_name  미세각질  피지과다  모낭사이홍반  모낭홍반농포  \\\n",
       "0  0013_A2LEBJJDE00060O_1606550825417_3_TH.jpg     0     0       0       0   \n",
       "1  0177_A2LEBJJDE00152B_1604650530904_6_BH.jpg     0     0       0       0   \n",
       "2  0335_A2LEBJJDE00013X_1602916465540_6_BH.jpg     0     0       0       0   \n",
       "3  0335_A2LEBJJDE000542_1605676381132_4_LH.jpg     0     0       0       0   \n",
       "4  0425_A2LEBJJDE00079P_1605793927978_5_RH.jpg     0     0       0       0   \n",
       "\n",
       "   비듬  탈모        where                                         image_path  \n",
       "0   0   0  [라벨]탈모_0.양호  ./Training/[원천]탈모_0.양호.zipfile/0013_A2LEBJJDE0...  \n",
       "1   0   0  [라벨]탈모_0.양호  ./Training/[원천]탈모_0.양호.zipfile/0177_A2LEBJJDE0...  \n",
       "2   0   0  [라벨]탈모_0.양호  ./Training/[원천]탈모_0.양호.zipfile/0335_A2LEBJJDE0...  \n",
       "3   0   0  [라벨]탈모_0.양호  ./Training/[원천]탈모_0.양호.zipfile/0335_A2LEBJJDE0...  \n",
       "4   0   0  [라벨]탈모_0.양호  ./Training/[원천]탈모_0.양호.zipfile/0425_A2LEBJJDE0...  "
      ]
     },
     "execution_count": 5,
     "metadata": {},
     "output_type": "execute_result"
    }
   ],
   "source": [
    "import pandas as pd\n",
    "talmo = pd.read_csv('./탈모concat_df.csv')\n",
    "talmo.head()"
   ]
  },
  {
   "cell_type": "code",
   "execution_count": 6,
   "metadata": {},
   "outputs": [
    {
     "data": {
      "text/plain": [
       "'./Training/[원천]탈모_3.중증.zipfile/0335_A2LEBJJDE000542_1604725063669_5_RH.jpg'"
      ]
     },
     "execution_count": 6,
     "metadata": {},
     "output_type": "execute_result"
    }
   ],
   "source": [
    "# 이미지 하나를 랜덤으로 선택\n",
    "import random\n",
    "\n",
    "path = random.choice(talmo['image_path'])\n",
    "path"
   ]
  },
  {
   "cell_type": "code",
   "execution_count": 7,
   "metadata": {},
   "outputs": [],
   "source": [
    "# pred_class는 모델이 예측한 증상정도 0,1,2,3\n",
    "pred_class = predict_image_class(path, model)"
   ]
  },
  {
   "cell_type": "code",
   "execution_count": 8,
   "metadata": {},
   "outputs": [
    {
     "name": "stdout",
     "output_type": "stream",
     "text": [
      "3\n"
     ]
    }
   ],
   "source": [
    "print(pred_class)"
   ]
  },
  {
   "cell_type": "code",
   "execution_count": null,
   "metadata": {},
   "outputs": [],
   "source": []
  }
 ],
 "metadata": {
  "kernelspec": {
   "display_name": "Python 3 (ipykernel)",
   "language": "python",
   "name": "python3"
  },
  "language_info": {
   "codemirror_mode": {
    "name": "ipython",
    "version": 3
   },
   "file_extension": ".py",
   "mimetype": "text/x-python",
   "name": "python",
   "nbconvert_exporter": "python",
   "pygments_lexer": "ipython3",
   "version": "3.8.16"
  },
  "vscode": {
   "interpreter": {
    "hash": "1c82d1a80ee0d4ff8d4114458f1a4bf9de876e6d83c0940c915b29fd45e0fe5f"
   }
  }
 },
 "nbformat": 4,
 "nbformat_minor": 2
}
